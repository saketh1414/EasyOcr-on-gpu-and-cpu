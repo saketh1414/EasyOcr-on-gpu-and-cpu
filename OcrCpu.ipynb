{
 "cells": [
  {
   "cell_type": "code",
   "execution_count": null,
   "metadata": {},
   "outputs": [],
   "source": [
    "import cv2\n",
    "import easyocr\n",
    "import matplotlib.pyplot as plt\n",
    "import time\n",
    "\n",
    "# Initialize EasyOCR reader\n",
    "reader = easyocr.Reader(['en'], gpu=False) #false for using CPU and true for GPU\n",
    "\n",
    "# Read the video file\n",
    "video_path = 'video1.mp4'  # Replace with your video file path\n",
    "cap = cv2.VideoCapture(video_path)\n",
    "\n",
    "frame_rate = 10  # Process every 10th frame \n",
    "frame_count = 0\n",
    "\n",
    "# Measure time\n",
    "start_time = time.time()\n",
    "\n",
    "while cap.isOpened():\n",
    "    ret, frame = cap.read()\n",
    "\n",
    "    if not ret:\n",
    "        break  # Break the loop if there are no more frames\n",
    "\n",
    "    # Process every 10th frame (frame_rate)\n",
    "    if frame_count % frame_rate == 0:\n",
    "        # Perform OCR on the current frame\n",
    "        text_ = reader.readtext(frame)\n",
    "\n",
    "        # Draw bounding boxes and text on the frame\n",
    "        for bbox, text, score in text_:\n",
    "            if score > 0.25:  # Confidence threshold\n",
    "                # Draw rectangle around detected text\n",
    "                cv2.rectangle(frame, tuple(map(int, bbox[0])), tuple(map(int, bbox[2])), (0, 255, 0), 2)\n",
    "                # Put detected text near the rectangle\n",
    "                cv2.putText(frame, text, tuple(map(int, bbox[0])), cv2.FONT_HERSHEY_SIMPLEX, 0.5, (255, 0, 0), 2)\n",
    "\n",
    "        # Display the current frame with detected text\n",
    "        plt.imshow(cv2.cvtColor(frame, cv2.COLOR_BGR2RGB))\n",
    "        plt.axis('off')\n",
    "        plt.show()\n",
    "\n",
    "    frame_count += 1\n",
    "\n",
    "# Release the video capture object\n",
    "cap.release()\n",
    "\n",
    "# Measure time and calculate FPS\n",
    "end_time = time.time()\n",
    "elapsed_time = end_time - start_time\n",
    "fps = frame_count / elapsed_time\n",
    "\n",
    "print(f\"Processed {frame_count} frames in {elapsed_time:.2f} seconds.\")\n",
    "print(f\"FPS: {fps:.2f}\")"
   ]
  },
  {
   "cell_type": "code",
   "execution_count": null,
   "metadata": {},
   "outputs": [],
   "source": [
    "print(f\"Processed {frame_count} frames in {elapsed_time:.2f} seconds.\")\n",
    "print(f\"FPS: {fps:.2f}\")"
   ]
  }
 ],
 "metadata": {
  "kernelspec": {
   "display_name": "Python 3",
   "language": "python",
   "name": "python3"
  },
  "language_info": {
   "name": "python",
   "version": "3.10.15"
  }
 },
 "nbformat": 4,
 "nbformat_minor": 2
}
